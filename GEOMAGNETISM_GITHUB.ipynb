{
 "cells": [
  {
   "cell_type": "markdown",
   "metadata": {},
   "source": [
    "# Geomagnetic field computation\n",
    "## installation\n",
    "pip install geomagnetism\n",
    "\n",
    "## for more information refer to:\n",
    "https://github.com/Bertin-fap/geomagnetism-exemples/blob/master/geomagnetism_notes.pdf\n"
   ]
  },
  {
   "cell_type": "code",
   "execution_count": 1,
   "metadata": {},
   "outputs": [
    {
     "name": "stdout",
     "output_type": "stream",
     "text": [
      "{'D': 69.3610564254094,\n",
      " 'Dd': -0.09443459660526313,\n",
      " 'F': 55120.604170372426,\n",
      " 'Fd': -83.46403856734376,\n",
      " 'H': 16853.75717045147,\n",
      " 'Hd': 12.437071229468575,\n",
      " 'I': -83.54187855308683,\n",
      " 'Id': 0.041439649920506444,\n",
      " 'X': 5940.575261950754,\n",
      " 'Xd': 30.379259074100904,\n",
      " 'Y': 15772.085984981284,\n",
      " 'Yd': 1.8476378780095435,\n",
      " 'Z': -52480.77622659876,\n",
      " 'Zd': 91.65641129191947}\n"
     ]
    }
   ],
   "source": [
    "import geomagnetism as geo\n",
    "from pprint import pprint\n",
    "height= 0.0\n",
    "colatitude= 170.0\n",
    "longitude= 240.0\n",
    "Date={\"mode\":\"dec\",\"year\":2020.0}\n",
    "\n",
    "result = geo.B_components(longitude,colatitude,height,Date,referential=\"geodetic\",\n",
    "                                   file=\"WMM_2020.COF\", SV=True)\n",
    "pprint(result)"
   ]
  },
  {
   "cell_type": "markdown",
   "metadata": {},
   "source": [
    "## benchmark with WMM test data 2020"
   ]
  },
  {
   "cell_type": "code",
   "execution_count": 2,
   "metadata": {},
   "outputs": [
    {
     "name": "stdout",
     "output_type": "stream",
     "text": [
      "Date: 2022.5 \n",
      "longitude: 240 °\n",
      "colatitude: 170 °\n",
      "height 0 m\n",
      "\n",
      "geomagnetism result\n",
      "{'D': 69.1254060051065,\n",
      " 'Dd': -0.09408553131003862,\n",
      " 'F': 54912.07843465053,\n",
      " 'Fd': -83.3563459190898,\n",
      " 'H': 16884.992659453015,\n",
      " 'Hd': 12.55121429759544,\n",
      " 'I': -83.4315946800131,\n",
      " 'Id': 0.04186855377459576,\n",
      " 'X': 6016.523409636008,\n",
      " 'Xd': 30.379259074100904,\n",
      " 'Y': 15776.705079676305,\n",
      " 'Yd': 1.8476378780095435,\n",
      " 'Z': -52251.63519836896,\n",
      " 'Zd': 91.65641129191947}\n",
      "geomagnetism WMM test value for 2020\n",
      "{'D (Deg)': 69.13,\n",
      " 'Ddot\\n(deg/yr)': -0.09,\n",
      " 'F (nT)': 54912.1,\n",
      " 'Fdot\\n(nT/yr)': -83.4,\n",
      " 'GV\\n(Deg)': -50.87,\n",
      " 'H (nT)': 16885.0,\n",
      " 'Hdot\\n(nT/yr)': 12.6,\n",
      " 'I (Deg)': -72.09,\n",
      " 'Idot\\n(deg/yr)': 0.04,\n",
      " 'X (nT)': 6016.5,\n",
      " 'Xdot\\n(nT/yr)': 30.4,\n",
      " 'Y (nT)': 15776.7,\n",
      " 'Ydot\\n(nT/yr)': 1.8,\n",
      " 'Z (nT)': -52251.6,\n",
      " 'Zdot\\n(nT/yr)': 91.7}\n"
     ]
    }
   ],
   "source": [
    "index=0 # index >=0 and <12\n",
    "Date, height, colatitude, longitude, WMM = geo.read_WWW_test_2020(8)\n",
    "result = geo.B_components(longitude,colatitude,height,Date,referential=\"geodetic\",\n",
    "                                    file=\"WMM_2020.COF\",SV=True)\n",
    "print(f'Date: {Date[\"year\"] } ')\n",
    "print(f'longitude: {longitude } °')\n",
    "print(f'colatitude: {colatitude } °')\n",
    "print(f'height {height} m\\n')\n",
    "print(\"geomagnetism result\")\n",
    "pprint(result) \n",
    "print(\"geomagnetism WMM test value for 2020\")\n",
    "pprint(WMM)"
   ]
  },
  {
   "cell_type": "markdown",
   "metadata": {},
   "source": [
    "#  h and g coefficients\n",
    "Reading of the experimental value of the coefficients $h_n^m$, $g_n^m$ versus year as well as their secular variation."
   ]
  },
  {
   "cell_type": "code",
   "execution_count": 3,
   "metadata": {},
   "outputs": [
    {
     "name": "stdout",
     "output_type": "stream",
     "text": [
      "Spherial harmonic coefficients h(m=1,n=3) for year = 1965 :-404.0\n"
     ]
    }
   ],
   "source": [
    "import geomagnetism as geo\n",
    "file = \"IGRF13.COF\" # downloaded from https://www.ngdc.noaa.gov/IAGA/vmod/coeffs/igrf13coeffs.txt\n",
    "dic_dic_h, dic_dic_g, dic_dic_SV_h, dic_dic_SV_g, dic_N, Years= geo.read_IGRF13_COF(file)\n",
    "m=1\n",
    "n=3\n",
    "years=\"1965\"\n",
    "h = dic_dic_h[years][(m,n)]\n",
    "print(f'Spherial harmonic coefficients h(m={m},n={n}) for year = {years} :{h}')"
   ]
  },
  {
   "cell_type": "code",
   "execution_count": 4,
   "metadata": {},
   "outputs": [
    {
     "name": "stdout",
     "output_type": "stream",
     "text": [
      "Spherial harmonic coefficients h(m=1,n=3) for year = 1965 :-404.0\n"
     ]
    }
   ],
   "source": [
    "file=\"FORTRAN_1900_1995.txt\" # extracted from https://www.ngdc.noaa.gov/IAGA/vmod/igrf13.f\n",
    "dic_dic_h,dic_dic_g,dic_N,Years = geo.read_fortran_DATA(file) \n",
    "m=1\n",
    "n=3\n",
    "years=\"1965\"\n",
    "h = dic_dic_h[years][(m,n)]\n",
    "print(f'Spherial harmonic coefficients h(m={m},n={n}) for year = {years} :{h}')"
   ]
  },
  {
   "cell_type": "code",
   "execution_count": 5,
   "metadata": {},
   "outputs": [
    {
     "name": "stdout",
     "output_type": "stream",
     "text": [
      "Spherial harmonic coefficients h(m=1,n=3) for year = 1965 :-404\n"
     ]
    }
   ],
   "source": [
    "file=\"IGRF13coeffs.txt\" # downloaded from https://www.ngdc.noaa.gov/IAGA/vmod/igrf.html\n",
    "dic_dic_h,dic_dic_g,dic_dic_SV_h,dic_dic_SV_g,dic_N,Years=geo.read_IGRF13coeffs(file)\n",
    "m=1\n",
    "n=3\n",
    "years=\"1965\"\n",
    "h = dic_dic_h[years][(m,n)]\n",
    "print(f'Spherial harmonic coefficients h(m={m},n={n}) for year = {years} :{h}')"
   ]
  },
  {
   "cell_type": "code",
   "execution_count": 6,
   "metadata": {},
   "outputs": [
    {
     "name": "stdout",
     "output_type": "stream",
     "text": [
      "Spherial harmonic coefficients h(m=1,n=3) for year = 2020 :-82.2\n",
      "Spherial harmonic coefficients g(m=1,n=3) for year = 2020 :-2381.0\n"
     ]
    }
   ],
   "source": [
    "year = \"2020\" #downloaded from https://www.ngdc.noaa.gov/geomag/WMM/wmm_ddownload.shtml\n",
    "m=1\n",
    "n=3\n",
    "years=\"2020\"\n",
    "if year==\"2015\" or years==\"2020\":\n",
    "    file=\"WMM_\"+years+\".COF\"\n",
    "    dic_dic_h,dic_dic_g,dic_dic_SV_h,dic_dic_SV_g,dic_N,Years=geo.read_WMM(file)\n",
    "h = dic_dic_h[years][(m,n)]\n",
    "g = dic_dic_g[years][(m,n)]\n",
    "print(f'Spherial harmonic coefficients h(m={m},n={n}) for year = {years} :{h}')\n",
    "print(f'Spherial harmonic coefficients g(m={m},n={n}) for year = {years} :{g}')"
   ]
  },
  {
   "cell_type": "markdown",
   "metadata": {},
   "source": [
    "# Geodetic to geocentric transformation relationship\n",
    "### for more information refer to:\n",
    "https://github.com/Bertin-fap/geomagnetism-exemples/blob/master/geomagnetism_notes.pdf\n"
   ]
  },
  {
   "cell_type": "code",
   "execution_count": 7,
   "metadata": {},
   "outputs": [
    {
     "name": "stdout",
     "output_type": "stream",
     "text": [
      "geocentric radius 6477497.3376 m,\n",
      "geocentric colatitude 80.0646°\n",
      "delta = 0.0646°\n"
     ]
    }
   ],
   "source": [
    "import geomagnetism as geo\n",
    "import numpy as np\n",
    "\n",
    "WGS84 = geo.geomagnetism.WGS84\n",
    "h = 100_000 # in meters\n",
    "geotetic_latitude = 80 # in degrees\n",
    "r_geocentric,co_latitude_geocentric,delta = geo.geodetic_to_geocentric(WGS84, geotetic_latitude, h)\n",
    "print(f'geocentric radius {r_geocentric:0.4f} m,\\\n",
    "\\ngeocentric colatitude {co_latitude_geocentric*180/np.pi:0.4f}°\\\n",
    "\\ndelta = {delta*180/np.pi:0.4f}°')"
   ]
  },
  {
   "cell_type": "code",
   "execution_count": 8,
   "metadata": {},
   "outputs": [
    {
     "data": {
      "image/png": "[encoded data removed]",
      "text/plain": [
       "<Figure size 432x288 with 1 Axes>"
      ]
     },
     "metadata": {
      "needs_background": "light"
     },
     "output_type": "display_data"
    }
   ],
   "source": [
    "import geomagnetism as geo\n",
    "import numpy as np\n",
    "import matplotlib.pyplot as plt\n",
    "%matplotlib inline\n",
    "\n",
    "# Ellipsoid parameters: semi major axis in metres, reciprocal flattening.\n",
    "GRS80 = geo.geomagnetism.GRS80\n",
    "WGS84 = geo.geomagnetism.WGS84\n",
    "\n",
    "hs = [0,1000,10000,100000]\n",
    "colats=np.arange(0,180,1)\n",
    "\n",
    "for h in hs:\n",
    "    colat_geocentrics=[]\n",
    "    for colat in colats:\n",
    "        _,colat_geocentric,_ = geo.geodetic_to_geocentric(WGS84, colat, h )\n",
    "        colat_geocentrics.append(colat_geocentric)\n",
    "        \n",
    "    plt.plot(colats,np.array(colat_geocentrics)*180/np.pi-colats,label=str(h)+\" m\")\n",
    "    plt.xlabel('$\\Theta$  (°)',size=15)\n",
    "    plt.ylabel('$\\delta$  (°)',size=15)\n",
    "    plt.legend()"
   ]
  },
  {
   "cell_type": "markdown",
   "metadata": {},
   "source": [
    "# Check the Schmidt quasi-normalization conditions:\n"
   ]
  },
  {
   "cell_type": "code",
   "execution_count": 9,
   "metadata": {},
   "outputs": [
    {
     "name": "stdout",
     "output_type": "stream",
     "text": [
      "mode : Schimdt N = 9  M = 8 n = 9 m = 8\n",
      "\n",
      "Numerical value CC  :  0.6613879270715354 \n",
      "Theoritical value CC: 0.6613879270715354\n",
      "\n",
      "Numerical value SS  :  0.6613879270715353 \n",
      "Theoritical value SS: 0.6613879270715354\n",
      "\n",
      "Numerical value SC  :  -2.9971125723710876e-16 \n",
      "Theoritical value SC: 0\n"
     ]
    }
   ],
   "source": [
    "'''Checks the orthogonality and normalization relations (2) of the associated Legendre polynomes \n",
    "using eithe the Schmidt normalization (3) or the Stacey normalization (4)'''\n",
    "from scipy.integrate import dblquad\n",
    "import numpy as np\n",
    "import math\n",
    "from scipy.special import lpmn\n",
    "\n",
    "mode=\"Schimdt\" # must be equal to \"Stacey\" or \"Schimdt\"\n",
    "n=9           # stands for N\n",
    "m=8            # stands for M\n",
    "n_=9          # stands for n\n",
    "m_=8           # stands for m\n",
    "\n",
    "def CC(theta,phi):\n",
    "    M,_=lpmn(m,n,np.cos(theta))\n",
    "    M=M*Norm\n",
    "    t1=M[m,n]*np.cos(m*phi)\n",
    "    t2=M[m_,n_]*np.cos(m_*phi)\n",
    "    return t1*t2*np.sin(theta)\n",
    "\n",
    "def SS(theta,phi):\n",
    "    M,_=lpmn(m,n,np.cos(theta))\n",
    "    M=M*Norm\n",
    "    t1=M[m,n]*np.sin(m*phi)\n",
    "    t2=M[m_,n_]*np.sin(m_*phi)\n",
    "    return t1*t2*np.sin(theta)\n",
    "\n",
    "def CS(theta,phi):\n",
    "    M,_=lpmn(m,n,np.cos(theta))\n",
    "    M=M*Norm\n",
    "    t1=M[m,n]*np.cos(m*phi)\n",
    "    t2=M[m_,n_]*np.sin(m_*phi)\n",
    "    return t1*t2*np.sin(theta)\n",
    "\n",
    "\n",
    "if mode==\"Stacey\":\n",
    "    Norm=geo.Norm_Stacey(m,n) \n",
    "elif mode==\"Schimdt\":\n",
    "    Norm=geo.Norm_Schimdt(m,n)\n",
    "\n",
    "ans1, err = dblquad(CC, 0, 2*np.pi,\n",
    "                   lambda x: 0,\n",
    "                   lambda x: np.pi)\n",
    "ans2, err = dblquad(SS, 0, 2*np.pi,\n",
    "                   lambda x: 0,\n",
    "                   lambda x: np.pi)\n",
    "ans3, err = dblquad(CS, 0, 2*np.pi,\n",
    "                   lambda x: 0,\n",
    "                   lambda x: np.pi)\n",
    "print(\"mode :\",mode,\"N =\",n,\" M =\",m, \"n =\", n_ ,\"m =\",m_)\n",
    "if mode==\"Stacey\":\n",
    "    print(\"\\nNumerical value CC  : \",ans1,\"\\nTheoritical value CC:\",4*np.pi*(n==n_)*(m_==m))\n",
    "    print(\"\\nNumerical value SS  : \",ans2,\"\\nTheoritical value SS:\",4*np.pi*(n==n_)*(m_==m)*(1-(m_==0)))\n",
    "    print(\"\\nNumerical value SC  : \",ans3, \"\\nTheoritical value SC:\",0)\n",
    "elif mode==\"Schimdt\":\n",
    "    print(\"\\nNumerical value CC  : \",ans1, \"\\nTheoritical value CC:\",4*np.pi/(2*n+1)*(n==n_)*(m_==m))\n",
    "    print(\"\\nNumerical value SS  : \",ans2,\"\\nTheoritical value SS:\",4*np.pi/(2*n+1)*(n==n_)*(m_==m)*(1-(m_==0)))\n",
    "    print(\"\\nNumerical value SC  : \",ans3, \"\\nTheoritical value SC:\",0)"
   ]
  },
  {
   "cell_type": "markdown",
   "metadata": {},
   "source": [
    "## Near pole development"
   ]
  },
  {
   "cell_type": "code",
   "execution_count": 14,
   "metadata": {},
   "outputs": [
    {
     "data": {
      "text/plain": [
       "Text(0, 0.5, 'Z (nT)')"
      ]
     },
     "execution_count": 14,
     "metadata": {},
     "output_type": "execute_result"
    },
    {
     "data": {
      "image/png": "[encoded data removed]",
      "text/plain": [
       "<Figure size 1080x1080 with 4 Axes>"
      ]
     },
     "metadata": {
      "needs_background": "light"
     },
     "output_type": "display_data"
    }
   ],
   "source": [
    "import numpy as np\n",
    "import matplotlib.pyplot as plt\n",
    "%matplotlib inline\n",
    "\n",
    "EPS = 1.e-5*180/np.pi\n",
    "height= 0.0\n",
    "longitude= 240.0\n",
    "Date={\"mode\":\"dec\",\"year\":2020.0}\n",
    "H = []\n",
    "X = []\n",
    "Y = []\n",
    "Z = []\n",
    "for colatitude in np.linspace(0,3*EPS,1000):\n",
    "    result = geo.B_components(longitude,colatitude,height,Date,referential=\"geodetic\",\n",
    "                                   file=\"WMM_2020.COF\", SV=True)\n",
    "    H.append(result['H'])\n",
    "    X.append(result['X'])\n",
    "    Y.append(result['Y'])\n",
    "    Z.append(result['Z'])\n",
    "    \n",
    "plt.figure(figsize=(15,15))   \n",
    "plt.subplot(2,2,1)\n",
    "plt.plot(np.linspace(0,3*EPS,1000),H)\n",
    "plt.xlabel(\"colatidue (°)\")\n",
    "plt.ylabel(\"H (nT)\")\n",
    "\n",
    "plt.subplot(2,2,2)\n",
    "plt.plot(np.linspace(0,3*EPS,1000),X)\n",
    "plt.xlabel(\"colatidue (°)\")\n",
    "plt.ylabel(\"X (nT)\")\n",
    "\n",
    "plt.subplot(2,2,3)\n",
    "plt.plot(np.linspace(0,3*EPS,1000),Y)\n",
    "plt.xlabel(\"colatidue (°)\")\n",
    "plt.ylabel(\"Y (nT)\")\n",
    "\n",
    "plt.subplot(2,2,4)\n",
    "plt.plot(np.linspace(0,3*EPS,1000),Z)\n",
    "plt.xlabel(\"colatidue (°)\")\n",
    "plt.ylabel(\"Z (nT)\")"
   ]
  },
  {
   "cell_type": "code",
   "execution_count": null,
   "metadata": {},
   "outputs": [],
   "source": [
    "N=12\n",
    "\n",
    "theta=np.deg2rad(0)\n",
    "d_theta=1.e-5\n",
    "M0,Mp0=lpmn(N,N,np.cos(theta))\n",
    "M1,Mp1=lpmn(N,N,np.cos(theta+d_theta))\n",
    "Mp0=Mp0*(-1)*np.sin(theta) \n",
    "Mp0num=(M1-M0)/d_theta\n",
    "print(Mp0num[1,1:])\n",
    "print(Mp0[0,1:])"
   ]
  },
  {
   "cell_type": "markdown",
   "metadata": {},
   "source": [
    "<script type=\"text/javascript\" src=\"http://cdn.mathjax.org/mathjax/latest/MathJax.js?config=default\"></script>"
   ]
  },
  {
   "cell_type": "code",
   "execution_count": null,
   "metadata": {},
   "outputs": [],
   "source": []
  }
 ],
 "metadata": {
  "kernelspec": {
   "display_name": "Python 3",
   "language": "python",
   "name": "python3"
  },
  "language_info": {
   "codemirror_mode": {
    "name": "ipython",
    "version": 3
   },
   "file_extension": ".py",
   "mimetype": "text/x-python",
   "name": "python",
   "nbconvert_exporter": "python",
   "pygments_lexer": "ipython3",
   "version": "3.6.10"
  }
 },
 "nbformat": 4,
 "nbformat_minor": 2
}
