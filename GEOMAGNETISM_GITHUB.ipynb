{
 "cells": [
  {
   "attachments": {},
   "cell_type": "markdown",
   "metadata": {},
   "source": [
    "# Geomagnetic field computation\n",
    "## installation\n",
    "pip install geomagnetism\n",
    "\n",
    "## for more information refer to:\n",
    "https://github.com/Bertin-fap/geomagnetism-exemples/blob/master/geomagnetism_notes.pdf\n"
   ]
  },
  {
   "cell_type": "code",
   "execution_count": 1,
   "metadata": {},
   "outputs": [
    {
     "name": "stdout",
     "output_type": "stream",
     "text": [
      "Declination : -14.0° 52.0' 53.03''\n",
      "Inclination : 82.0° 52.0' 4.76''\n",
      "North component : 6763.202 nT\n",
      "East component : -1797.198 nT\n",
      "Down component : 54052.001 nT\n",
      "Horizontal field strength : 6997.915 nT\n",
      "Total field strength : 54503.116 nT\n"
     ]
    }
   ],
   "source": [
    "import geomagnetism as geo\n",
    "from random import sample, randint\n",
    "\n",
    "Date = dict(zip([\"mode\",\"year\",\"month\",\"day\",\"hour\",\"minute\",\"second\"],\n",
    "               [\"ymd\",randint(1900,2020),randint(1,12),randint(1,28),0,0,0 ]))\n",
    "height = 500 # altitude (m)\n",
    "colatitude = 10 # colatitude (°)\n",
    "longitude = 0 # longitude (°)\n",
    "\n",
    "\n",
    "Bx,By,Bz,D,F,H,I = geo.B_components(longitude,colatitude,height,Date,referential=\"geodetic\")\n",
    "\n",
    "d = geo.decdeg2dms(D)\n",
    "i = geo.decdeg2dms(I)\n",
    "print(f\"Declination : {d[0]}° {d[1]}' {d[2]:0.2f}''\")\n",
    "print(f\"Inclination : {i[0]}° {i[1]}' {i[2]:0.2f}''\")\n",
    "print(f\"North component : {Bx:0.3f} nT\")\n",
    "print(f\"East component : {By:0.3f} nT\")\n",
    "print(f\"Down component : {Bz:0.3f} nT\")\n",
    "print(f\"Horizontal field strength : {H:0.3f} nT\")\n",
    "print(f\"Total field strength : {F:0.3f} nT\")"
   ]
  },
  {
   "cell_type": "markdown",
   "metadata": {},
   "source": [
    "#  h and g coefficients\n",
    "Reading of the experimental value of the coefficients $h_n^m$, $g_n^m$ versus year as well as their secular variation."
   ]
  },
  {
   "cell_type": "code",
   "execution_count": 2,
   "metadata": {},
   "outputs": [
    {
     "name": "stdout",
     "output_type": "stream",
     "text": [
      "Spherial harmonic coefficients h(m=1,n=3) for year = 1965 :-404.0\n"
     ]
    }
   ],
   "source": [
    "import geomagnetism as geo\n",
    "file = \"IGRF13.COF\" # downloaded from https://www.ngdc.noaa.gov/IAGA/vmod/coeffs/igrf13coeffs.txt\n",
    "dic_dic_h, dic_dic_g, dic_dic_SV_h, dic_dic_SV_g, dic_N, Years= geo.read_IGRF13_COF(file)\n",
    "m=1\n",
    "n=3\n",
    "years=\"1965\"\n",
    "h = dic_dic_h[years][(m,n)]\n",
    "print(f'Spherial harmonic coefficients h(m={m},n={n}) for year = {years} :{h}')"
   ]
  },
  {
   "cell_type": "code",
   "execution_count": 3,
   "metadata": {},
   "outputs": [
    {
     "name": "stdout",
     "output_type": "stream",
     "text": [
      "Spherial harmonic coefficients h(m=1,n=3) for year = 1965 :-404.0\n"
     ]
    }
   ],
   "source": [
    "file=\"FORTRAN_1900_1995.txt\" # extracted from https://www.ngdc.noaa.gov/IAGA/vmod/igrf13.f\n",
    "dic_dic_h,dic_dic_g,dic_N,Years = geo.read_fortran_DATA(file) \n",
    "m=1\n",
    "n=3\n",
    "years=\"1965\"\n",
    "h = dic_dic_h[years][(m,n)]\n",
    "print(f'Spherial harmonic coefficients h(m={m},n={n}) for year = {years} :{h}')"
   ]
  },
  {
   "cell_type": "code",
   "execution_count": 4,
   "metadata": {},
   "outputs": [
    {
     "name": "stdout",
     "output_type": "stream",
     "text": [
      "Spherial harmonic coefficients h(m=1,n=3) for year = 1965 :-404\n"
     ]
    }
   ],
   "source": [
    "file=\"IGRF13coeffs.txt\" # downloaded from https://www.ngdc.noaa.gov/IAGA/vmod/igrf.html\n",
    "dic_dic_h,dic_dic_g,dic_dic_SV_h,dic_dic_SV_g,dic_N,Years=geo.read_IGRF13coeffs(file)\n",
    "m=1\n",
    "n=3\n",
    "years=\"1965\"\n",
    "h = dic_dic_h[years][(m,n)]\n",
    "print(f'Spherial harmonic coefficients h(m={m},n={n}) for year = {years} :{h}')"
   ]
  },
  {
   "cell_type": "code",
   "execution_count": null,
   "metadata": {},
   "outputs": [],
   "source": [
    "y = \"2020\" #downloaded from https://www.ngdc.noaa.gov/geomag/WMM/wmm_ddownload.shtml\n",
    "if y==\"2015\" or y==\"2020\":\n",
    "    file=\"WMM_\"+y+\".COF\"\n",
    "    dic_dic_h1,dic_dic_g1,dic_dic_SV_h1,dic_dic_SV_g1,dic_N1,Years1=geo.read_WMM(file)"
   ]
  },
  {
   "cell_type": "markdown",
   "metadata": {},
   "source": [
    "# Geodetic to geocentric transformation relationship\n",
    "### for more information refer to:\n",
    "https://github.com/Bertin-fap/geomagnetism-exemples/blob/master/geomagnetism_notes.pdf\n"
   ]
  },
  {
   "cell_type": "code",
   "execution_count": 32,
   "metadata": {},
   "outputs": [
    {
     "name": "stdout",
     "output_type": "stream",
     "text": [
      "geocentric radius 6367489.5439 m,\n",
      "geocentric colatitude 45.1924°\n",
      "delta = 0.1924°\n"
     ]
    }
   ],
   "source": [
    "import geomagnetism as geo\n",
    "import numpy as np\n",
    "\n",
    "WGS84 = geo.geomagnetism.WGS84\n",
    "h = 0 # in meters\n",
    "geotetic_latide = 45 # in degrees\n",
    "r_geocentric,co_latitude_geocentric,delta = geo.geodetic_to_geocentric(WGS84, geotetic_latide, h)\n",
    "print(f'geocentric radius {r_geocentric:0.4f} m,\\\n",
    "\\ngeocentric colatitude {co_latitude_geocentric*180/np.pi:0.4f}°\\\n",
    "\\ndelta = {delta*180/np.pi:0.4f}°')"
   ]
  },
  {
   "cell_type": "code",
   "execution_count": 6,
   "metadata": {},
   "outputs": [
    {
     "data": {
      "image/png": "[encoded data removed]",
      "text/plain": [
       "<Figure size 432x288 with 1 Axes>"
      ]
     },
     "metadata": {
      "needs_background": "light"
     },
     "output_type": "display_data"
    }
   ],
   "source": [
    "import geomagnetism as geo\n",
    "import numpy as np\n",
    "import matplotlib.pyplot as plt\n",
    "%matplotlib inline\n",
    "\n",
    "# Ellipsoid parameters: semi major axis in metres, reciprocal flattening.\n",
    "GRS80 = geo.geomagnetism.GRS80\n",
    "WGS84 = geo.geomagnetism.WGS84\n",
    "\n",
    "hs = [0,1000,10000,100000]\n",
    "colats=np.arange(0,180,1)\n",
    "\n",
    "for h in hs:\n",
    "    colat_geocentrics=[]\n",
    "    for colat in colats:\n",
    "        _,colat_geocentric,_ = geo.geodetic_to_geocentric(WGS84, colat, h )\n",
    "        colat_geocentrics.append(colat_geocentric)\n",
    "        \n",
    "    plt.plot(colats,np.array(colat_geocentrics)*180/np.pi-colats,label=str(h)+\" m\")\n",
    "    plt.xlabel('$\\Theta$  (°)',size=15)\n",
    "    plt.ylabel('$\\delta$  (°)',size=15)\n",
    "    plt.legend()"
   ]
  },
  {
   "cell_type": "markdown",
   "metadata": {},
   "source": [
    "# Check the Schmidt quasi-normalization conditions:\n"
   ]
  },
  {
   "cell_type": "code",
   "execution_count": 8,
   "metadata": {},
   "outputs": [
    {
     "name": "stdout",
     "output_type": "stream",
     "text": [
      "mode : Schimdt N = 9  M = 8 n = 9 m = 8\n",
      "\n",
      "Numerical value CC  :  0.6613879270715354 \n",
      "Theoritical value CC: 0.6613879270715354\n",
      "\n",
      "Numerical value SS  :  0.6613879270715353 \n",
      "Theoritical value SS: 0.6613879270715354\n",
      "\n",
      "Numerical value SC  :  -2.9971125723710876e-16 \n",
      "Theoritical value SC: 0\n"
     ]
    }
   ],
   "source": [
    "'''Checks the orthogonality and normalization relations (2) of the associated Legendre polynomes \n",
    "using eithe the Schmidt normalization (3) or the Stacey normalization (4)'''\n",
    "from scipy.integrate import dblquad\n",
    "import numpy as np\n",
    "import math\n",
    "from scipy.special import lpmn\n",
    "\n",
    "mode=\"Schimdt\" # must be equal to \"Stacey\" or \"Schimdt\"\n",
    "n=9           # stands for N\n",
    "m=8            # stands for M\n",
    "n_=9          # stands for n\n",
    "m_=8           # stands for m\n",
    "\n",
    "def CC(theta,phi):\n",
    "    M,_=lpmn(m,n,np.cos(theta))\n",
    "    M=M*Norm\n",
    "    t1=M[m,n]*np.cos(m*phi)\n",
    "    t2=M[m_,n_]*np.cos(m_*phi)\n",
    "    return t1*t2*np.sin(theta)\n",
    "\n",
    "def SS(theta,phi):\n",
    "    M,_=lpmn(m,n,np.cos(theta))\n",
    "    M=M*Norm\n",
    "    t1=M[m,n]*np.sin(m*phi)\n",
    "    t2=M[m_,n_]*np.sin(m_*phi)\n",
    "    return t1*t2*np.sin(theta)\n",
    "\n",
    "def CS(theta,phi):\n",
    "    M,_=lpmn(m,n,np.cos(theta))\n",
    "    M=M*Norm\n",
    "    t1=M[m,n]*np.cos(m*phi)\n",
    "    t2=M[m_,n_]*np.sin(m_*phi)\n",
    "    return t1*t2*np.sin(theta)\n",
    "\n",
    "\n",
    "if mode==\"Stacey\":\n",
    "    Norm=geo.Norm_Stacey(m,n) \n",
    "elif mode==\"Schimdt\":\n",
    "    Norm=geo.Norm_Schimdt(m,n)\n",
    "\n",
    "ans1, err = dblquad(CC, 0, 2*np.pi,\n",
    "                   lambda x: 0,\n",
    "                   lambda x: np.pi)\n",
    "ans2, err = dblquad(SS, 0, 2*np.pi,\n",
    "                   lambda x: 0,\n",
    "                   lambda x: np.pi)\n",
    "ans3, err = dblquad(CS, 0, 2*np.pi,\n",
    "                   lambda x: 0,\n",
    "                   lambda x: np.pi)\n",
    "print(\"mode :\",mode,\"N =\",n,\" M =\",m, \"n =\", n_ ,\"m =\",m_)\n",
    "if mode==\"Stacey\":\n",
    "    print(\"\\nNumerical value CC  : \",ans1,\"\\nTheoritical value CC:\",4*np.pi*(n==n_)*(m_==m))\n",
    "    print(\"\\nNumerical value SS  : \",ans2,\"\\nTheoritical value SS:\",4*np.pi*(n==n_)*(m_==m)*(1-(m_==0)))\n",
    "    print(\"\\nNumerical value SC  : \",ans3, \"\\nTheoritical value SC:\",0)\n",
    "elif mode==\"Schimdt\":\n",
    "    print(\"\\nNumerical value CC  : \",ans1, \"\\nTheoritical value CC:\",4*np.pi/(2*n+1)*(n==n_)*(m_==m))\n",
    "    print(\"\\nNumerical value SS  : \",ans2,\"\\nTheoritical value SS:\",4*np.pi/(2*n+1)*(n==n_)*(m_==m)*(1-(m_==0)))\n",
    "    print(\"\\nNumerical value SC  : \",ans3, \"\\nTheoritical value SC:\",0)"
   ]
  },
  {
   "cell_type": "markdown",
   "metadata": {},
   "source": [
    "<script type=\"text/javascript\" src=\"http://cdn.mathjax.org/mathjax/latest/MathJax.js?config=default\"></script>"
   ]
  },
  {
   "cell_type": "code",
   "execution_count": null,
   "metadata": {},
   "outputs": [],
   "source": []
  }
 ],
 "metadata": {
  "kernelspec": {
   "display_name": "Python 3",
   "language": "python",
   "name": "python3"
  },
  "language_info": {
   "codemirror_mode": {
    "name": "ipython",
    "version": 3
   },
   "file_extension": ".py",
   "mimetype": "text/x-python",
   "name": "python",
   "nbconvert_exporter": "python",
   "pygments_lexer": "ipython3",
   "version": "3.6.10"
  }
 },
 "nbformat": 4,
 "nbformat_minor": 2
}
